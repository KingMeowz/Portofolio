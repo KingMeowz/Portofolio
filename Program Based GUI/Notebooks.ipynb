{
 "cells": [
  {
   "attachments": {},
   "cell_type": "markdown",
   "metadata": {},
   "source": [
    "## **Analisis Perbandingan antara IQ dengan nilai CGPA**"
   ]
  },
  {
   "attachments": {},
   "cell_type": "markdown",
   "metadata": {},
   "source": [
    "## **Import Library And Dataset Show**"
   ]
  },
  {
   "cell_type": "code",
   "execution_count": 1,
   "metadata": {},
   "outputs": [],
   "source": [
    "import pandas as pd \n",
    "import numpy as np\n",
    "import matplotlib.pyplot as plt"
   ]
  },
  {
   "cell_type": "code",
   "execution_count": 2,
   "metadata": {},
   "outputs": [
    {
     "data": {
      "text/html": [
       "<div>\n",
       "<style scoped>\n",
       "    .dataframe tbody tr th:only-of-type {\n",
       "        vertical-align: middle;\n",
       "    }\n",
       "\n",
       "    .dataframe tbody tr th {\n",
       "        vertical-align: top;\n",
       "    }\n",
       "\n",
       "    .dataframe thead th {\n",
       "        text-align: right;\n",
       "    }\n",
       "</style>\n",
       "<table border=\"1\" class=\"dataframe\">\n",
       "  <thead>\n",
       "    <tr style=\"text-align: right;\">\n",
       "      <th></th>\n",
       "      <th>cgpa</th>\n",
       "      <th>iq</th>\n",
       "    </tr>\n",
       "  </thead>\n",
       "  <tbody>\n",
       "    <tr>\n",
       "      <th>190</th>\n",
       "      <td>8.40</td>\n",
       "      <td>93</td>\n",
       "    </tr>\n",
       "    <tr>\n",
       "      <th>191</th>\n",
       "      <td>8.44</td>\n",
       "      <td>94</td>\n",
       "    </tr>\n",
       "    <tr>\n",
       "      <th>192</th>\n",
       "      <td>4.76</td>\n",
       "      <td>89</td>\n",
       "    </tr>\n",
       "    <tr>\n",
       "      <th>193</th>\n",
       "      <td>4.78</td>\n",
       "      <td>85</td>\n",
       "    </tr>\n",
       "    <tr>\n",
       "      <th>194</th>\n",
       "      <td>8.79</td>\n",
       "      <td>96</td>\n",
       "    </tr>\n",
       "    <tr>\n",
       "      <th>195</th>\n",
       "      <td>4.68</td>\n",
       "      <td>89</td>\n",
       "    </tr>\n",
       "    <tr>\n",
       "      <th>196</th>\n",
       "      <td>8.57</td>\n",
       "      <td>118</td>\n",
       "    </tr>\n",
       "    <tr>\n",
       "      <th>197</th>\n",
       "      <td>5.85</td>\n",
       "      <td>112</td>\n",
       "    </tr>\n",
       "    <tr>\n",
       "      <th>198</th>\n",
       "      <td>6.23</td>\n",
       "      <td>108</td>\n",
       "    </tr>\n",
       "    <tr>\n",
       "      <th>199</th>\n",
       "      <td>8.82</td>\n",
       "      <td>117</td>\n",
       "    </tr>\n",
       "  </tbody>\n",
       "</table>\n",
       "</div>"
      ],
      "text/plain": [
       "     cgpa   iq\n",
       "190  8.40   93\n",
       "191  8.44   94\n",
       "192  4.76   89\n",
       "193  4.78   85\n",
       "194  8.79   96\n",
       "195  4.68   89\n",
       "196  8.57  118\n",
       "197  5.85  112\n",
       "198  6.23  108\n",
       "199  8.82  117"
      ]
     },
     "execution_count": 2,
     "metadata": {},
     "output_type": "execute_result"
    }
   ],
   "source": [
    "df = pd.read_csv(\"iq-data/student_clustering.csv\")\n",
    "df.tail(10)"
   ]
  },
  {
   "attachments": {},
   "cell_type": "markdown",
   "metadata": {},
   "source": [
    "## **Check data type**"
   ]
  },
  {
   "cell_type": "code",
   "execution_count": 3,
   "metadata": {},
   "outputs": [
    {
     "name": "stdout",
     "output_type": "stream",
     "text": [
      "<class 'pandas.core.frame.DataFrame'>\n",
      "RangeIndex: 200 entries, 0 to 199\n",
      "Data columns (total 2 columns):\n",
      " #   Column  Non-Null Count  Dtype  \n",
      "---  ------  --------------  -----  \n",
      " 0   cgpa    200 non-null    float64\n",
      " 1   iq      200 non-null    int64  \n",
      "dtypes: float64(1), int64(1)\n",
      "memory usage: 3.2 KB\n"
     ]
    }
   ],
   "source": [
    "df.info() "
   ]
  },
  {
   "attachments": {},
   "cell_type": "markdown",
   "metadata": {},
   "source": [
    "## **Check null in dataset**"
   ]
  },
  {
   "cell_type": "code",
   "execution_count": 4,
   "metadata": {},
   "outputs": [
    {
     "data": {
      "text/plain": [
       "cgpa    0\n",
       "iq      0\n",
       "dtype: int64"
      ]
     },
     "execution_count": 4,
     "metadata": {},
     "output_type": "execute_result"
    }
   ],
   "source": [
    "df.isna().sum()"
   ]
  },
  {
   "attachments": {},
   "cell_type": "markdown",
   "metadata": {},
   "source": [
    "## **Make into numpy array**"
   ]
  },
  {
   "cell_type": "code",
   "execution_count": 5,
   "metadata": {},
   "outputs": [
    {
     "name": "stdout",
     "output_type": "stream",
     "text": [
      "[[5.13 5.9  8.36 8.27 5.45 5.88 8.41 8.8  5.79 8.09 4.6  6.1  8.16 5.\n",
      "  5.71 8.31 5.5  7.87 6.05 5.84 7.47 4.86 7.78 4.78 4.96 7.93 4.86 9.18\n",
      "  8.04 5.43 8.86 6.01 8.83 5.32 7.77 8.   8.56 5.91 5.44 5.57 5.34 8.43\n",
      "  8.02 5.31 8.96 8.78 8.14 6.4  8.45 5.67 5.14 4.95 8.79 8.12 8.81 6.05\n",
      "  5.85 8.88 5.87 9.07 6.02 8.34 8.65 8.92 5.21 8.75 8.53 4.91 5.77 8.29\n",
      "  6.06 8.71 7.93 5.28 5.55 8.86 5.81 9.3  5.15 8.72 8.14 9.01 5.47 4.9\n",
      "  8.97 4.89 9.   5.74 8.76 5.8  8.78 9.23 8.2  5.05 8.67 8.18 9.03 8.61\n",
      "  4.98 9.13 5.88 5.01 4.95 8.91 4.96 4.85 7.99 4.76 8.98 9.03 8.08 8.86\n",
      "  5.91 5.67 8.26 8.89 8.25 5.74 8.97 4.98 4.78 5.69 8.4  8.72 7.84 5.2\n",
      "  8.08 6.05 5.05 8.25 8.3  6.14 5.01 4.77 5.74 8.93 5.94 4.68 7.9  7.97\n",
      "  8.21 4.81 5.86 5.03 4.98 8.58 5.32 8.94 6.38 4.86 8.6  4.89 8.77 8.81\n",
      "  4.88 8.23 6.61 8.54 6.04 8.35 5.01 8.97 6.24 8.33 8.91 4.67 6.1  5.15\n",
      "  4.97 8.68 9.06 5.8  8.9  4.87 5.2  8.46 8.94 5.87 4.99 8.91 8.91 5.97\n",
      "  6.17 6.01 7.89 4.79 7.91 8.23 8.95 6.33 8.4  8.44 4.76 4.78 8.79 4.68\n",
      "  8.57 5.85 6.23 8.82]]\n",
      "[[ 88 113  93  97 110 109  98 115 110  94  86 110  97  88 108  95 111  91\n",
      "  111 113  98  86  92  87  88  98  87 119  94 106 117 112 118 106  96  96\n",
      "  118 108  84 113  85  96  93  86 116 116  94 108 119 109  83  86 116  96\n",
      "  115 108 111 115 109 117 104  96  95 118  87 113  93  85 111  95 109 116\n",
      "   94  83 109 118 112 117  88  92  91 121 111  85 116  88 117 109 117 108\n",
      "  117 114  92  86  95  94 118  95  91 118 110  86  88 119  89  86  92  90\n",
      "  118 118  94 117 109 111  91 118  95 108 117  87  87 109  93 119  97  85\n",
      "   98 109  87  96  93 111  83  86 112 118 109  87 100  96  94  85 111  87\n",
      "   87 118  88 117 107  88 117  85 117 116  86  95 111 118 110  93  86 119\n",
      "  108  92 117  86 109  85  88 119 120 110 117  88  89  98 115 108  88 115\n",
      "  117 108 110 107  96  88  93  91 116 111  93  94  89  85  96  89 118 112\n",
      "  108 117]]\n"
     ]
    }
   ],
   "source": [
    "a = np.array([df['cgpa']])\n",
    "b = np.array([df['iq']])\n",
    "\n",
    "print(a)\n",
    "print(b)"
   ]
  },
  {
   "attachments": {},
   "cell_type": "markdown",
   "metadata": {},
   "source": [
    "## **Find unique value from columns dataframe**"
   ]
  },
  {
   "cell_type": "code",
   "execution_count": 6,
   "metadata": {},
   "outputs": [
    {
     "data": {
      "text/plain": [
       "array([5.13, 5.9 , 8.36, 8.27, 5.45, 5.88, 8.41, 8.8 , 5.79, 8.09, 4.6 ,\n",
       "       6.1 , 8.16, 5.  , 5.71, 8.31, 5.5 , 7.87, 6.05, 5.84, 7.47, 4.86,\n",
       "       7.78, 4.78, 4.96, 7.93, 9.18, 8.04, 5.43, 8.86, 6.01, 8.83, 5.32,\n",
       "       7.77, 8.  , 8.56, 5.91, 5.44, 5.57, 5.34, 8.43, 8.02, 5.31, 8.96,\n",
       "       8.78, 8.14, 6.4 , 8.45, 5.67, 5.14, 4.95, 8.79, 8.12, 8.81, 5.85,\n",
       "       8.88, 5.87, 9.07, 6.02, 8.34, 8.65, 8.92, 5.21, 8.75, 8.53, 4.91,\n",
       "       5.77, 8.29, 6.06, 8.71, 5.28, 5.55, 5.81, 9.3 , 5.15, 8.72, 9.01,\n",
       "       5.47, 4.9 , 8.97, 4.89, 9.  , 5.74, 8.76, 5.8 , 9.23, 8.2 , 5.05,\n",
       "       8.67, 8.18, 9.03, 8.61, 4.98, 9.13, 5.01, 8.91, 4.85, 7.99, 4.76,\n",
       "       8.98, 8.08, 8.26, 8.89, 8.25, 5.69, 8.4 , 7.84, 5.2 , 8.3 , 6.14,\n",
       "       4.77, 8.93, 5.94, 4.68, 7.9 , 7.97, 8.21, 4.81, 5.86, 5.03, 8.58,\n",
       "       8.94, 6.38, 8.6 , 8.77, 4.88, 8.23, 6.61, 8.54, 6.04, 8.35, 6.24,\n",
       "       8.33, 4.67, 4.97, 8.68, 9.06, 8.9 , 4.87, 8.46, 4.99, 5.97, 6.17,\n",
       "       7.89, 4.79, 7.91, 8.95, 6.33, 8.44, 8.57, 6.23, 8.82])"
      ]
     },
     "execution_count": 6,
     "metadata": {},
     "output_type": "execute_result"
    }
   ],
   "source": [
    "df['cgpa'].unique()"
   ]
  },
  {
   "cell_type": "code",
   "execution_count": 7,
   "metadata": {},
   "outputs": [
    {
     "data": {
      "text/plain": [
       "array([ 88, 113,  93,  97, 110, 109,  98, 115,  94,  86, 108,  95, 111,\n",
       "        91,  92,  87, 119, 106, 117, 112, 118,  96,  84,  85, 116,  83,\n",
       "       104, 121, 114,  89,  90, 100, 107, 120], dtype=int64)"
      ]
     },
     "execution_count": 7,
     "metadata": {},
     "output_type": "execute_result"
    }
   ],
   "source": [
    "df['iq'].unique()"
   ]
  },
  {
   "attachments": {},
   "cell_type": "markdown",
   "metadata": {},
   "source": [
    "## **Deleting Duplicated Data**"
   ]
  },
  {
   "attachments": {},
   "cell_type": "markdown",
   "metadata": {},
   "source": [
    "### ***IQ Column***"
   ]
  },
  {
   "cell_type": "code",
   "execution_count": 8,
   "metadata": {},
   "outputs": [
    {
     "data": {
      "text/plain": [
       "[88,\n",
       " 113,\n",
       " 93,\n",
       " 97,\n",
       " 110,\n",
       " 109,\n",
       " 98,\n",
       " 115,\n",
       " 94,\n",
       " 86,\n",
       " 108,\n",
       " 95,\n",
       " 111,\n",
       " 91,\n",
       " 92,\n",
       " 87,\n",
       " 119,\n",
       " 106,\n",
       " 117,\n",
       " 112,\n",
       " 118,\n",
       " 96,\n",
       " 84,\n",
       " 85,\n",
       " 116,\n",
       " 83,\n",
       " 104,\n",
       " 121,\n",
       " 114,\n",
       " 89,\n",
       " 90,\n",
       " 100,\n",
       " 107,\n",
       " 120]"
      ]
     },
     "execution_count": 8,
     "metadata": {},
     "output_type": "execute_result"
    }
   ],
   "source": [
    "iq_fixed = df['iq'].drop_duplicates()\n",
    "iq_1 = list(iq_fixed)\n",
    "iq_1\n",
    "# len(iq_1)\n"
   ]
  },
  {
   "attachments": {},
   "cell_type": "markdown",
   "metadata": {},
   "source": [
    "### ***CGPA Column***"
   ]
  },
  {
   "cell_type": "code",
   "execution_count": 9,
   "metadata": {},
   "outputs": [
    {
     "data": {
      "text/plain": [
       "152"
      ]
     },
     "execution_count": 9,
     "metadata": {},
     "output_type": "execute_result"
    }
   ],
   "source": [
    "cgpa_fixed = df['cgpa'].drop_duplicates()\n",
    "# cgpa_fixed\n",
    "len(cgpa_fixed)"
   ]
  },
  {
   "attachments": {},
   "cell_type": "markdown",
   "metadata": {},
   "source": [
    "## **Convert to list** "
   ]
  },
  {
   "cell_type": "code",
   "execution_count": 10,
   "metadata": {},
   "outputs": [
    {
     "name": "stdout",
     "output_type": "stream",
     "text": [
      "5.13, 5.9, 8.36, 8.27, 5.45, 5.88, 8.41, 8.8, 5.79, 8.09, 4.6, 6.1, 8.16, 5.0, 5.71, 8.31, 5.5, 7.87, 6.05, 5.84, 7.47, 4.86, 7.78, 4.78, 4.96, 7.93, 4.86, 9.18, 8.04, 5.43, 8.86, 6.01, 8.83, 5.32, 7.77, 8.0, 8.56, 5.91, 5.44, 5.57, 5.34, 8.43, 8.02, 5.31, 8.96, 8.78, 8.14, 6.4, 8.45, 5.67, 5.14, 4.95, 8.79, 8.12, 8.81, 6.05, 5.85, 8.88, 5.87, 9.07, 6.02, 8.34, 8.65, 8.92, 5.21, 8.75, 8.53, 4.91, 5.77, 8.29, 6.06, 8.71, 7.93, 5.28, 5.55, 8.86, 5.81, 9.3, 5.15, 8.72, 8.14, 9.01, 5.47, 4.9, 8.97, 4.89, 9.0, 5.74, 8.76, 5.8, 8.78, 9.23, 8.2, 5.05, 8.67, 8.18, 9.03, 8.61, 4.98, 9.13, 5.88, 5.01, 4.95, 8.91, 4.96, 4.85, 7.99, 4.76, 8.98, 9.03, 8.08, 8.86, 5.91, 5.67, 8.26, 8.89, 8.25, 5.74, 8.97, 4.98, 4.78, 5.69, 8.4, 8.72, 7.84, 5.2, 8.08, 6.05, 5.05, 8.25, 8.3, 6.14, 5.01, 4.77, 5.74, 8.93, 5.94, 4.68, 7.9, 7.97, 8.21, 4.81, 5.86, 5.03, 4.98, 8.58, 5.32, 8.94, 6.38, 4.86, 8.6, 4.89, 8.77, 8.81, 4.88, 8.23, 6.61, 8.54, 6.04, 8.35, 5.01, 8.97, 6.24, 8.33, 8.91, 4.67, 6.1, 5.15, 4.97, 8.68, 9.06, 5.8, 8.9, 4.87, 5.2, 8.46, 8.94, 5.87, 4.99, 8.91, 8.91, 5.97, 6.17, 6.01, 7.89, 4.79, 7.91, 8.23, 8.95, 6.33, 8.4, 8.44, 4.76, 4.78, 8.79, 4.68, 8.57, 5.85, 6.23, 8.82, "
     ]
    }
   ],
   "source": [
    "# Make dataframe \"cgpa\" to list\n",
    "cgpa = df['cgpa'].tolist()\n",
    "for i in cgpa:\n",
    "  print(i, end=', ')"
   ]
  },
  {
   "cell_type": "code",
   "execution_count": 11,
   "metadata": {},
   "outputs": [
    {
     "name": "stdout",
     "output_type": "stream",
     "text": [
      "88, 113, 93, 97, 110, 109, 98, 115, 110, 94, 86, 110, 97, 88, 108, 95, 111, 91, 111, 113, 98, 86, 92, 87, 88, 98, 87, 119, 94, 106, 117, 112, 118, 106, 96, 96, 118, 108, 84, 113, 85, 96, 93, 86, 116, 116, 94, 108, 119, 109, 83, 86, 116, 96, 115, 108, 111, 115, 109, 117, 104, 96, 95, 118, 87, 113, 93, 85, 111, 95, 109, 116, 94, 83, 109, 118, 112, 117, 88, 92, 91, 121, 111, 85, 116, 88, 117, 109, 117, 108, 117, 114, 92, 86, 95, 94, 118, 95, 91, 118, 110, 86, 88, 119, 89, 86, 92, 90, 118, 118, 94, 117, 109, 111, 91, 118, 95, 108, 117, 87, 87, 109, 93, 119, 97, 85, 98, 109, 87, 96, 93, 111, 83, 86, 112, 118, 109, 87, 100, 96, 94, 85, 111, 87, 87, 118, 88, 117, 107, 88, 117, 85, 117, 116, 86, 95, 111, 118, 110, 93, 86, 119, 108, 92, 117, 86, 109, 85, 88, 119, 120, 110, 117, 88, 89, 98, 115, 108, 88, 115, 117, 108, 110, 107, 96, 88, 93, 91, 116, 111, 93, 94, 89, 85, 96, 89, 118, 112, 108, 117, "
     ]
    }
   ],
   "source": [
    "# Make dataframe \"iq\" to list\n",
    "iq = df['iq'].tolist()\n",
    "for i in iq:\n",
    "  print(i, end=', ')"
   ]
  },
  {
   "attachments": {},
   "cell_type": "markdown",
   "metadata": {},
   "source": [
    "## **Sorting**"
   ]
  },
  {
   "attachments": {},
   "cell_type": "markdown",
   "metadata": {},
   "source": [
    "### ***Bubble Sort***"
   ]
  },
  {
   "cell_type": "code",
   "execution_count": 12,
   "metadata": {},
   "outputs": [
    {
     "name": "stdout",
     "output_type": "stream",
     "text": [
      "Bubble Sorted of IQ :\n",
      "83 83 83 84 85 85 85 85 85 85 85 85 86 86 86 86 86 86 86 86 86 86 86 87 87 87 87 87 87 87 87 87 88 88 88 88 88 88 88 88 88 88 88 88 89 89 89 89 90 91 91 91 91 91 92 92 92 92 92 93 93 93 93 93 93 93 93 94 94 94 94 94 94 94 94 95 95 95 95 95 95 95 96 96 96 96 96 96 96 96 96 97 97 97 98 98 98 98 98 100 104 106 106 107 107 108 108 108 108 108 108 108 108 108 108 109 109 109 109 109 109 109 109 109 109 109 110 110 110 110 110 110 110 111 111 111 111 111 111 111 111 111 111 112 112 112 112 113 113 113 113 114 115 115 115 115 115 116 116 116 116 116 116 116 117 117 117 117 117 117 117 117 117 117 117 117 117 117 117 118 118 118 118 118 118 118 118 118 118 118 118 118 119 119 119 119 119 119 120 121 "
     ]
    }
   ],
   "source": [
    "def bubbleSort(arr):\n",
    "    n = len(arr)\n",
    "\n",
    "    for i in range(n):\n",
    "\n",
    "        for j in range(0, n-i-1):\n",
    "            if arr[j] > arr[j+1]:\n",
    "                arr[j], arr[j+1] = arr[j+1], arr[j]\n",
    "                \n",
    "# Driver code to test above\n",
    "if __name__ == \"__main__\":\n",
    "    arr = iq\n",
    "\n",
    "    bubbleSort(arr)\n",
    "\n",
    "    print(\"Bubble Sorted of IQ :\")\n",
    "    for i in range(len(arr)):\n",
    "        print(\"%d\" % arr[i], end=\" \")"
   ]
  },
  {
   "attachments": {},
   "cell_type": "markdown",
   "metadata": {},
   "source": [
    "### ***Selection Sort***"
   ]
  },
  {
   "cell_type": "code",
   "execution_count": 13,
   "metadata": {},
   "outputs": [
    {
     "name": "stdout",
     "output_type": "stream",
     "text": [
      "Selecton Sorted of IQ :\n",
      "83 83 83 84 85 85 85 85 85 85 85 85 86 86 86 86 86 86 86 86 86 86 86 87 87 87 87 87 87 87 87 87 88 88 88 88 88 88 88 88 88 88 88 88 89 89 89 89 90 91 91 91 91 91 92 92 92 92 92 93 93 93 93 93 93 93 93 94 94 94 94 94 94 94 94 95 95 95 95 95 95 95 96 96 96 96 96 96 96 96 96 97 97 97 98 98 98 98 98 100 104 106 106 107 107 108 108 108 108 108 108 108 108 108 108 109 109 109 109 109 109 109 109 109 109 109 110 110 110 110 110 110 110 111 111 111 111 111 111 111 111 111 111 112 112 112 112 113 113 113 113 114 115 115 115 115 115 116 116 116 116 116 116 116 117 117 117 117 117 117 117 117 117 117 117 117 117 117 117 118 118 118 118 118 118 118 118 118 118 118 118 118 119 119 119 119 119 119 120 121 "
     ]
    }
   ],
   "source": [
    "def selection_sort(alist):\n",
    "    for i in range(0, len(alist) - 1):\n",
    "        smallest = i\n",
    "    for j in range(i + 1, len(alist)):\n",
    "        if alist[j] < alist[smallest]:\n",
    "            smallest = j\n",
    "    alist[i], alist[smallest] = alist[smallest], alist[i]\n",
    "\n",
    "if __name__ == \"__main__\":\n",
    "    alist = iq\n",
    "\n",
    "    selection_sort(alist)\n",
    "\n",
    "    print(\"Selecton Sorted of IQ :\")\n",
    "    for i in range(len(alist)):\n",
    "        print(\"%d\" % alist[i], end=\" \")"
   ]
  },
  {
   "attachments": {},
   "cell_type": "markdown",
   "metadata": {},
   "source": [
    "### ***Insertion Sort***"
   ]
  },
  {
   "cell_type": "code",
   "execution_count": 14,
   "metadata": {},
   "outputs": [
    {
     "name": "stdout",
     "output_type": "stream",
     "text": [
      "Insertion Sorted of IQ :\n",
      "83 83 83 84 85 85 85 85 85 85 85 85 86 86 86 86 86 86 86 86 86 86 86 87 87 87 87 87 87 87 87 87 88 88 88 88 88 88 88 88 88 88 88 88 89 89 89 89 90 91 91 91 91 91 92 92 92 92 92 93 93 93 93 93 93 93 93 94 94 94 94 94 94 94 94 95 95 95 95 95 95 95 96 96 96 96 96 96 96 96 96 97 97 97 98 98 98 98 98 100 104 106 106 107 107 108 108 108 108 108 108 108 108 108 108 109 109 109 109 109 109 109 109 109 109 109 110 110 110 110 110 110 110 111 111 111 111 111 111 111 111 111 111 112 112 112 112 113 113 113 113 114 115 115 115 115 115 116 116 116 116 116 116 116 117 117 117 117 117 117 117 117 117 117 117 117 117 117 117 118 118 118 118 118 118 118 118 118 118 118 118 118 119 119 119 119 119 119 120 121 "
     ]
    }
   ],
   "source": [
    "def insertion_sort(alist):\n",
    "  for i in range(1, len(alist)):\n",
    "    temp = alist[i]\n",
    "    j = i - 1\n",
    "    while (j >= 0 and temp < alist[j]):\n",
    "      alist[j + 1] = alist[j]\n",
    "      j = j - 1\n",
    "    alist[j + 1] = temp\n",
    "\n",
    "if __name__ == \"__main__\":\n",
    "    alist = iq\n",
    "\n",
    "    insertion_sort(alist)\n",
    "\n",
    "    print(\"Insertion Sorted of IQ :\")\n",
    "    for i in range(len(alist)):\n",
    "        print(\"%d\" % alist[i], end=\" \")"
   ]
  },
  {
   "attachments": {},
   "cell_type": "markdown",
   "metadata": {},
   "source": [
    "### ***Quick sort with pandas library***"
   ]
  },
  {
   "cell_type": "code",
   "execution_count": 15,
   "metadata": {},
   "outputs": [
    {
     "data": {
      "text/html": [
       "<div>\n",
       "<style scoped>\n",
       "    .dataframe tbody tr th:only-of-type {\n",
       "        vertical-align: middle;\n",
       "    }\n",
       "\n",
       "    .dataframe tbody tr th {\n",
       "        vertical-align: top;\n",
       "    }\n",
       "\n",
       "    .dataframe thead th {\n",
       "        text-align: right;\n",
       "    }\n",
       "</style>\n",
       "<table border=\"1\" class=\"dataframe\">\n",
       "  <thead>\n",
       "    <tr style=\"text-align: right;\">\n",
       "      <th></th>\n",
       "      <th>cgpa</th>\n",
       "      <th>iq</th>\n",
       "    </tr>\n",
       "  </thead>\n",
       "  <tbody>\n",
       "    <tr>\n",
       "      <th>132</th>\n",
       "      <td>5.01</td>\n",
       "      <td>83</td>\n",
       "    </tr>\n",
       "    <tr>\n",
       "      <th>50</th>\n",
       "      <td>5.14</td>\n",
       "      <td>83</td>\n",
       "    </tr>\n",
       "    <tr>\n",
       "      <th>73</th>\n",
       "      <td>5.28</td>\n",
       "      <td>83</td>\n",
       "    </tr>\n",
       "    <tr>\n",
       "      <th>38</th>\n",
       "      <td>5.44</td>\n",
       "      <td>84</td>\n",
       "    </tr>\n",
       "    <tr>\n",
       "      <th>193</th>\n",
       "      <td>4.78</td>\n",
       "      <td>85</td>\n",
       "    </tr>\n",
       "  </tbody>\n",
       "</table>\n",
       "</div>"
      ],
      "text/plain": [
       "     cgpa  iq\n",
       "132  5.01  83\n",
       "50   5.14  83\n",
       "73   5.28  83\n",
       "38   5.44  84\n",
       "193  4.78  85"
      ]
     },
     "execution_count": 15,
     "metadata": {},
     "output_type": "execute_result"
    }
   ],
   "source": [
    "df_2 = df.sort_values(by =['iq', 'cgpa'], ascending = True)\n",
    "df_2.head()"
   ]
  },
  {
   "cell_type": "code",
   "execution_count": 16,
   "metadata": {},
   "outputs": [
    {
     "data": {
      "text/html": [
       "<div>\n",
       "<style scoped>\n",
       "    .dataframe tbody tr th:only-of-type {\n",
       "        vertical-align: middle;\n",
       "    }\n",
       "\n",
       "    .dataframe tbody tr th {\n",
       "        vertical-align: top;\n",
       "    }\n",
       "\n",
       "    .dataframe thead th {\n",
       "        text-align: right;\n",
       "    }\n",
       "</style>\n",
       "<table border=\"1\" class=\"dataframe\">\n",
       "  <thead>\n",
       "    <tr style=\"text-align: right;\">\n",
       "      <th></th>\n",
       "      <th>cgpa</th>\n",
       "      <th>iq</th>\n",
       "    </tr>\n",
       "  </thead>\n",
       "  <tbody>\n",
       "    <tr>\n",
       "      <th>103</th>\n",
       "      <td>8.91</td>\n",
       "      <td>119</td>\n",
       "    </tr>\n",
       "    <tr>\n",
       "      <th>161</th>\n",
       "      <td>8.97</td>\n",
       "      <td>119</td>\n",
       "    </tr>\n",
       "    <tr>\n",
       "      <th>27</th>\n",
       "      <td>9.18</td>\n",
       "      <td>119</td>\n",
       "    </tr>\n",
       "    <tr>\n",
       "      <th>170</th>\n",
       "      <td>9.06</td>\n",
       "      <td>120</td>\n",
       "    </tr>\n",
       "    <tr>\n",
       "      <th>81</th>\n",
       "      <td>9.01</td>\n",
       "      <td>121</td>\n",
       "    </tr>\n",
       "  </tbody>\n",
       "</table>\n",
       "</div>"
      ],
      "text/plain": [
       "     cgpa   iq\n",
       "103  8.91  119\n",
       "161  8.97  119\n",
       "27   9.18  119\n",
       "170  9.06  120\n",
       "81   9.01  121"
      ]
     },
     "execution_count": 16,
     "metadata": {},
     "output_type": "execute_result"
    }
   ],
   "source": [
    "df_2.tail()"
   ]
  },
  {
   "attachments": {},
   "cell_type": "markdown",
   "metadata": {},
   "source": [
    "## **Searching**"
   ]
  },
  {
   "attachments": {},
   "cell_type": "markdown",
   "metadata": {},
   "source": [
    "### ***Linear Search***"
   ]
  },
  {
   "cell_type": "code",
   "execution_count": 28,
   "metadata": {},
   "outputs": [
    {
     "name": "stdout",
     "output_type": "stream",
     "text": [
      "Pada data ke  -1\n"
     ]
    }
   ],
   "source": [
    "def linear_search(alist, key):\n",
    "\n",
    "  for i in range(len(alist)):\n",
    "    if alist[i] == key:\n",
    "      return i\n",
    "  return -1\n",
    "\n",
    "alist = iq_fixed\n",
    "alist = [int(x) for x in alist]\n",
    "key = int(input('The number to search for: '))\n",
    "index = linear_search(alist, key)\n",
    "print('Pada data ke ',index)"
   ]
  },
  {
   "attachments": {},
   "cell_type": "markdown",
   "metadata": {},
   "source": [
    "### ***Binary Search with recursion*** "
   ]
  },
  {
   "cell_type": "code",
   "execution_count": 18,
   "metadata": {},
   "outputs": [
    {
     "name": "stdout",
     "output_type": "stream",
     "text": [
      "Element is present at index 149\n"
     ]
    }
   ],
   "source": [
    "def binary_search(arr, low, high, x):\n",
    "\n",
    "\t# Check base case\n",
    "\tif high >= low:\n",
    "\n",
    "\t\tmid = (high + low) // 2\n",
    "\n",
    "\t\t# If element is present at the middle itself\n",
    "\t\tif arr[mid] == x:\n",
    "\t\t\treturn mid\n",
    "\n",
    "\t\t# If element is smaller than mid, then it can only\n",
    "\t\t# be present in left subarray\n",
    "\t\telif arr[mid] > x:\n",
    "\t\t\treturn binary_search(arr, low, mid - 1, x)\n",
    "\n",
    "\t\t# Else the element can only be present in right subarray\n",
    "\t\telse:\n",
    "\t\t\treturn binary_search(arr, mid + 1, high, x)\n",
    "\n",
    "\telse:\n",
    "\t\t# Element is not present in the array\n",
    "\t\treturn -1\n",
    "\n",
    "# Test array\n",
    "arr = iq\n",
    "x = 113\n",
    "\n",
    "# Function call\n",
    "result = binary_search(arr, 0, len(arr)-1, x)\n",
    "\n",
    "if result != -1:\n",
    "\tprint(\"Element is present at index\", str(result))\n",
    "else:\n",
    "\tprint(\"Element is not present in array\")\n"
   ]
  },
  {
   "attachments": {},
   "cell_type": "markdown",
   "metadata": {},
   "source": [
    "### ***Binary Search without recursion*** "
   ]
  },
  {
   "cell_type": "code",
   "execution_count": 19,
   "metadata": {},
   "outputs": [
    {
     "name": "stdout",
     "output_type": "stream",
     "text": [
      "Found At Index 32\n",
      "Found At Index 147\n",
      "Found At Index 99\n",
      "Not Found\n"
     ]
    }
   ],
   "source": [
    "def binarySearch(v, To_Find):\n",
    "\tlo = 0\n",
    "\thi = len(v) - 1\n",
    "\n",
    "\twhile hi - lo > 1:\n",
    "\t\tmid = (hi + lo) // 2\n",
    "\t\tif v[mid] < To_Find:\n",
    "\t\t\tlo = mid + 1\n",
    "\t\telse:\n",
    "\t\t\thi = mid\n",
    "\n",
    "\tif v[lo] == To_Find:\n",
    "\t\tprint(\"Found At Index\", lo)\n",
    "\telif v[hi] == To_Find:\n",
    "\t\tprint(\"Found At Index\", hi)\n",
    "\telse:\n",
    "\t\tprint(\"Not Found\")\n",
    "\n",
    "\n",
    "if __name__ == '__main__':\n",
    "\tv = iq\n",
    "\n",
    "\tTo_Find = 88\n",
    "\tbinarySearch(v, To_Find)\n",
    "\n",
    "\tTo_Find = 113\n",
    "\tbinarySearch(v, To_Find)\n",
    "\n",
    "\tTo_Find = 100\n",
    "\tbinarySearch(v, To_Find)\n",
    "\n",
    "\tTo_Find = 5\n",
    "\tbinarySearch(v, To_Find)\n"
   ]
  },
  {
   "attachments": {},
   "cell_type": "markdown",
   "metadata": {},
   "source": [
    "### ***Finding cgpa score less or same than 50***"
   ]
  },
  {
   "cell_type": "code",
   "execution_count": 20,
   "metadata": {},
   "outputs": [
    {
     "name": "stdout",
     "output_type": "stream",
     "text": [
      "0       88\n",
      "1      113\n",
      "2       93\n",
      "3       97\n",
      "4      110\n",
      "      ... \n",
      "195     89\n",
      "196    118\n",
      "197    112\n",
      "198    108\n",
      "199    117\n",
      "Name: iq, Length: 200, dtype: int64\n"
     ]
    }
   ],
   "source": [
    "print(df['iq'].where(df['cgpa'] <= 50))"
   ]
  },
  {
   "attachments": {},
   "cell_type": "markdown",
   "metadata": {},
   "source": [
    "##  **Statistical Result of Data**"
   ]
  },
  {
   "cell_type": "code",
   "execution_count": 21,
   "metadata": {},
   "outputs": [
    {
     "data": {
      "text/html": [
       "<div>\n",
       "<style scoped>\n",
       "    .dataframe tbody tr th:only-of-type {\n",
       "        vertical-align: middle;\n",
       "    }\n",
       "\n",
       "    .dataframe tbody tr th {\n",
       "        vertical-align: top;\n",
       "    }\n",
       "\n",
       "    .dataframe thead th {\n",
       "        text-align: right;\n",
       "    }\n",
       "</style>\n",
       "<table border=\"1\" class=\"dataframe\">\n",
       "  <thead>\n",
       "    <tr style=\"text-align: right;\">\n",
       "      <th></th>\n",
       "      <th>cgpa</th>\n",
       "      <th>iq</th>\n",
       "    </tr>\n",
       "  </thead>\n",
       "  <tbody>\n",
       "    <tr>\n",
       "      <th>count</th>\n",
       "      <td>200.000000</td>\n",
       "      <td>200.000000</td>\n",
       "    </tr>\n",
       "    <tr>\n",
       "      <th>mean</th>\n",
       "      <td>6.983400</td>\n",
       "      <td>101.995000</td>\n",
       "    </tr>\n",
       "    <tr>\n",
       "      <th>std</th>\n",
       "      <td>1.624101</td>\n",
       "      <td>12.161599</td>\n",
       "    </tr>\n",
       "    <tr>\n",
       "      <th>min</th>\n",
       "      <td>4.600000</td>\n",
       "      <td>83.000000</td>\n",
       "    </tr>\n",
       "    <tr>\n",
       "      <th>25%</th>\n",
       "      <td>5.407500</td>\n",
       "      <td>91.000000</td>\n",
       "    </tr>\n",
       "    <tr>\n",
       "      <th>50%</th>\n",
       "      <td>7.040000</td>\n",
       "      <td>102.000000</td>\n",
       "    </tr>\n",
       "    <tr>\n",
       "      <th>75%</th>\n",
       "      <td>8.585000</td>\n",
       "      <td>113.000000</td>\n",
       "    </tr>\n",
       "    <tr>\n",
       "      <th>max</th>\n",
       "      <td>9.300000</td>\n",
       "      <td>121.000000</td>\n",
       "    </tr>\n",
       "  </tbody>\n",
       "</table>\n",
       "</div>"
      ],
      "text/plain": [
       "             cgpa          iq\n",
       "count  200.000000  200.000000\n",
       "mean     6.983400  101.995000\n",
       "std      1.624101   12.161599\n",
       "min      4.600000   83.000000\n",
       "25%      5.407500   91.000000\n",
       "50%      7.040000  102.000000\n",
       "75%      8.585000  113.000000\n",
       "max      9.300000  121.000000"
      ]
     },
     "execution_count": 21,
     "metadata": {},
     "output_type": "execute_result"
    }
   ],
   "source": [
    "df.describe()"
   ]
  },
  {
   "attachments": {},
   "cell_type": "markdown",
   "metadata": {},
   "source": [
    "## **Plot with Matplotlib**"
   ]
  },
  {
   "attachments": {},
   "cell_type": "markdown",
   "metadata": {},
   "source": [
    "### ***Barplot***"
   ]
  },
  {
   "cell_type": "code",
   "execution_count": 22,
   "metadata": {},
   "outputs": [
    {
     "data": {
      "image/png": "[encoded data removed]",
      "text/plain": [
       "<Figure size 640x480 with 1 Axes>"
      ]
     },
     "metadata": {},
     "output_type": "display_data"
    }
   ],
   "source": [
    "colors = ['blue']\n",
    "plt.bar(df['iq'], df['cgpa'], color=colors)\n",
    "plt.title('Score CGPA compared with IQ', fontsize=14)\n",
    "plt.xlabel('IQ Value', fontsize=14)\n",
    "plt.ylabel('CGPA Score', fontsize=14)\n",
    "plt.grid(False)\n",
    "plt.show()"
   ]
  },
  {
   "attachments": {},
   "cell_type": "markdown",
   "metadata": {},
   "source": [
    "### ***Scatter Plot***"
   ]
  },
  {
   "cell_type": "code",
   "execution_count": 23,
   "metadata": {},
   "outputs": [
    {
     "data": {
      "image/png": "[encoded data removed]",
      "text/plain": [
       "<Figure size 640x480 with 1 Axes>"
      ]
     },
     "metadata": {},
     "output_type": "display_data"
    }
   ],
   "source": [
    "colors = ['red']\n",
    "plt.scatter(df['iq'], df['cgpa'], color=colors)\n",
    "plt.title('Score CGPA compared with IQ', fontsize=14)\n",
    "plt.xlabel('IQ Value', fontsize=14)\n",
    "plt.ylabel('CGPA Score', fontsize=14)\n",
    "plt.grid(False)\n",
    "plt.show()"
   ]
  },
  {
   "attachments": {},
   "cell_type": "markdown",
   "metadata": {},
   "source": [
    "### ***Boxplot***"
   ]
  },
  {
   "cell_type": "code",
   "execution_count": 24,
   "metadata": {},
   "outputs": [
    {
     "data": {
      "image/png": "[encoded data removed]",
      "text/plain": [
       "<Figure size 640x480 with 1 Axes>"
      ]
     },
     "metadata": {},
     "output_type": "display_data"
    }
   ],
   "source": [
    "colors = ['blue']\n",
    "plt.boxplot(iq, cgpa)\n",
    "plt.title('Score CGPA compared with IQ', fontsize=14)\n",
    "plt.xlabel('IQ Value', fontsize=14)\n",
    "plt.ylabel('CGPA Score', fontsize=14)\n",
    "plt.show()"
   ]
  },
  {
   "attachments": {},
   "cell_type": "markdown",
   "metadata": {},
   "source": [
    "## **GUI With Pandas GUI**"
   ]
  },
  {
   "cell_type": "code",
   "execution_count": 25,
   "metadata": {},
   "outputs": [
    {
     "name": "stderr",
     "output_type": "stream",
     "text": [
      "PandasGUI INFO — pandasgui.gui — Opening PandasGUI\n"
     ]
    },
    {
     "data": {
      "text/plain": [
       "<pandasgui.gui.PandasGui at 0x243411e0550>"
      ]
     },
     "execution_count": 25,
     "metadata": {},
     "output_type": "execute_result"
    }
   ],
   "source": [
    "import pandas as pd\n",
    "from pandasgui import show \n",
    "\n",
    "df  = pd.read_csv(\"D:/My Wish/Collage Data/Semester 3/Algoritma Pemrograman/Tubes/Abdurrahman/iq-data/student_clustering.csv\")\n",
    "\n",
    "show(df)"
   ]
  },
  {
   "attachments": {},
   "cell_type": "markdown",
   "metadata": {},
   "source": [
    "## **Kesimpulan**"
   ]
  },
  {
   "attachments": {},
   "cell_type": "markdown",
   "metadata": {},
   "source": [
    "Pada Tugas besar kali ini, mengolah data dengan 3 library analisis dari python itu sendiri \n",
    "1. Pandas = Mengolah data dan manipulasi data\n",
    "2. Numpy = Mengolah array dan mengatur array \n",
    "3. Matplotlib = Membuat visualisasi data dengan plot bawaannya\n",
    "\n",
    "Adapun tambahan yang ada dalam GUI merupakan library bawaan yang dapat menampilkan data secara langsung. Nama library tersebut adalah : ***pandasgui***\n",
    "\n",
    "[Link Here!](https://github.com/adamerose/PandasGUI)\n",
    "\n",
    "Berdasarkan plot hasil analisis yang diolah dapat disimpulkan bahwa rantang IQ terhadap nilai CGPA adalah : \n",
    "1. Data tersebar merata dari rentang 90 - 100 dan 115 - 120 \n",
    "2. Berdasarkan statistical descriptive calculation dan boxplot yang dihasilkan dapat disimpulkan bahwa nilai tengah (Q2) dari data tersebut bernilai <= 100 \n"
   ]
  }
 ],
 "metadata": {
  "kernelspec": {
   "display_name": "Python 3.9.15 ('base')",
   "language": "python",
   "name": "python3"
  },
  "language_info": {
   "codemirror_mode": {
    "name": "ipython",
    "version": 3
   },
   "file_extension": ".py",
   "mimetype": "text/x-python",
   "name": "python",
   "nbconvert_exporter": "python",
   "pygments_lexer": "ipython3",
   "version": "3.9.15"
  },
  "orig_nbformat": 4,
  "vscode": {
   "interpreter": {
    "hash": "c42d99d755d00efaf066b964ceed011a4027ae5af520c8ef8190b9acee3a6094"
   }
  }
 },
 "nbformat": 4,
 "nbformat_minor": 2
}
